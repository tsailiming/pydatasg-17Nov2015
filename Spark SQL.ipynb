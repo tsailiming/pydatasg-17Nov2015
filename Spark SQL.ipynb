{
 "cells": [
  {
   "cell_type": "code",
   "execution_count": 1,
   "metadata": {
    "collapsed": false,
    "slideshow": {
     "slide_type": "slide"
    }
   },
   "outputs": [
    {
     "data": {
      "text/plain": [
       "<pyspark.context.SparkContext at 0x10b2ee190>"
      ]
     },
     "execution_count": 1,
     "metadata": {},
     "output_type": "execute_result"
    }
   ],
   "source": [
    "sc"
   ]
  },
  {
   "cell_type": "code",
   "execution_count": 1,
   "metadata": {
    "collapsed": false,
    "slideshow": {
     "slide_type": "slide"
    }
   },
   "outputs": [],
   "source": [
    "csv = '/Users/ltsai/Documents/workspace/github/pydatasg-17Nov2015/' \\\n",
    "      'Most_Popular_Baby_Names_by_Sex_and_Mother_s_Ethnic_Group__New_York_City.csv'\n",
    "df = sqlContext.read.format('com.databricks.spark.csv'). \\\n",
    "options(header='true', inferschema='true').load(csv) "
   ]
  },
  {
   "cell_type": "code",
   "execution_count": 3,
   "metadata": {
    "collapsed": false,
    "slideshow": {
     "slide_type": "subslide"
    }
   },
   "outputs": [
    {
     "name": "stdout",
     "output_type": "stream",
     "text": [
      "root\n",
      " |-- BRTH_YR: string (nullable = true)\n",
      " |-- GNDR: string (nullable = true)\n",
      " |-- ETHCTY: string (nullable = true)\n",
      " |-- NM: string (nullable = true)\n",
      " |-- CNT: string (nullable = true)\n",
      " |-- RNK: string (nullable = true)\n",
      "\n"
     ]
    }
   ],
   "source": [
    "df.printSchema()"
   ]
  },
  {
   "cell_type": "code",
   "execution_count": 4,
   "metadata": {
    "collapsed": false,
    "slideshow": {
     "slide_type": "subslide"
    }
   },
   "outputs": [
    {
     "name": "stdout",
     "output_type": "stream",
     "text": [
      "+-------+------+--------------------+-------+---+---+\n",
      "|BRTH_YR|  GNDR|              ETHCTY|     NM|CNT|RNK|\n",
      "+-------+------+--------------------+-------+---+---+\n",
      "|   2011|FEMALE|ASIAN AND PACIFIC...|ABIGAIL| 24| 24|\n",
      "|   2011|FEMALE|ASIAN AND PACIFIC...|ABIGAIL| 24| 24|\n",
      "|   2011|FEMALE|ASIAN AND PACIFIC...|ABIGAIL| 24| 24|\n",
      "|   2011|FEMALE|ASIAN AND PACIFIC...|    ADA| 13| 35|\n",
      "|   2011|FEMALE|ASIAN AND PACIFIC...|    ADA| 13| 35|\n",
      "|   2011|FEMALE|ASIAN AND PACIFIC...|    ADA| 13| 35|\n",
      "|   2011|FEMALE|ASIAN AND PACIFIC...|  AISHA| 13| 35|\n",
      "|   2011|FEMALE|ASIAN AND PACIFIC...|  AISHA| 13| 35|\n",
      "|   2011|FEMALE|ASIAN AND PACIFIC...|  AISHA| 13| 35|\n",
      "|   2011|FEMALE|ASIAN AND PACIFIC...|   AIZA| 10| 38|\n",
      "+-------+------+--------------------+-------+---+---+\n",
      "only showing top 10 rows\n",
      "\n"
     ]
    }
   ],
   "source": [
    "df.show(10)"
   ]
  },
  {
   "cell_type": "code",
   "execution_count": 5,
   "metadata": {
    "collapsed": false,
    "slideshow": {
     "slide_type": "slide"
    }
   },
   "outputs": [],
   "source": [
    "from pyspark.sql.types import *\n",
    "customSchema = StructType([StructField('BRTH_YR', StringType(), True),\n",
    "                           StructField('GNDR', StringType(), True),\n",
    "                           StructField('ETHCTY', StringType(), True),\n",
    "                           StructField('NM', StringType(), True),\n",
    "                           StructField('CNT', IntegerType(), True),\n",
    "                           StructField('RNK', IntegerType(), True)])\n",
    "\n",
    "df = sqlContext.read.format('com.databricks.spark.csv'). \\\n",
    "        options(header='true'). \\\n",
    "        load(csv, schema = customSchema).cache() "
   ]
  },
  {
   "cell_type": "code",
   "execution_count": 6,
   "metadata": {
    "collapsed": false,
    "slideshow": {
     "slide_type": "subslide"
    }
   },
   "outputs": [
    {
     "name": "stdout",
     "output_type": "stream",
     "text": [
      "root\n",
      " |-- BRTH_YR: string (nullable = true)\n",
      " |-- GNDR: string (nullable = true)\n",
      " |-- ETHCTY: string (nullable = true)\n",
      " |-- NM: string (nullable = true)\n",
      " |-- CNT: integer (nullable = true)\n",
      " |-- RNK: integer (nullable = true)\n",
      "\n"
     ]
    }
   ],
   "source": [
    "df.printSchema()"
   ]
  },
  {
   "cell_type": "code",
   "execution_count": 7,
   "metadata": {
    "collapsed": false,
    "slideshow": {
     "slide_type": "slide"
    }
   },
   "outputs": [
    {
     "data": {
      "text/plain": [
       "[Row(ETHCTY=u'HISPANIC'),\n",
       " Row(ETHCTY=u'ASIAN AND PACIFIC ISLANDER'),\n",
       " Row(ETHCTY=u'BLACK NON HISPANIC'),\n",
       " Row(ETHCTY=u'WHITE NON HISPANIC')]"
      ]
     },
     "execution_count": 7,
     "metadata": {},
     "output_type": "execute_result"
    }
   ],
   "source": [
    "df.select('ETHCTY').distinct().collect()"
   ]
  },
  {
   "cell_type": "code",
   "execution_count": 8,
   "metadata": {
    "collapsed": false,
    "slideshow": {
     "slide_type": "slide"
    }
   },
   "outputs": [
    {
     "name": "stdout",
     "output_type": "stream",
     "text": [
      "+---+---+------+------+\n",
      "|RNK|CNT|    NM|  GNDR|\n",
      "+---+---+------+------+\n",
      "|  1|177| ETHAN|  MALE|\n",
      "|  1|119|SOPHIA|FEMALE|\n",
      "|  1|119|SOPHIA|FEMALE|\n",
      "|  1|177| ETHAN|  MALE|\n",
      "|  1|119|SOPHIA|FEMALE|\n",
      "|  1|177| ETHAN|  MALE|\n",
      "|  2|173|JAYDEN|  MALE|\n",
      "|  2|106| CHLOE|FEMALE|\n",
      "|  2|106| CHLOE|FEMALE|\n",
      "|  2|173|JAYDEN|  MALE|\n",
      "+---+---+------+------+\n",
      "only showing top 10 rows\n",
      "\n"
     ]
    }
   ],
   "source": [
    "df.filter(\"ETHCTY = 'ASIAN AND PACIFIC ISLANDER'\"). \\\n",
    "    select(df.RNK, df.CNT, df.NM, df.GNDR). \\\n",
    "    orderBy(df.RNK.asc()).show(10)"
   ]
  },
  {
   "cell_type": "code",
   "execution_count": 9,
   "metadata": {
    "collapsed": false,
    "slideshow": {
     "slide_type": "slide"
    }
   },
   "outputs": [
    {
     "name": "stdout",
     "output_type": "stream",
     "text": [
      "+---+---+--------+\n",
      "|RNK|CNT|      NM|\n",
      "+---+---+--------+\n",
      "|  1|119|  SOPHIA|\n",
      "|  2|106|   CHLOE|\n",
      "|  3| 93|   EMILY|\n",
      "|  4| 89|  OLIVIA|\n",
      "|  5| 75|    EMMA|\n",
      "|  6| 67|ISABELLA|\n",
      "|  7| 54| TIFFANY|\n",
      "|  8| 52|  ASHLEY|\n",
      "|  9| 48|   FIONA|\n",
      "| 10| 47|  ANGELA|\n",
      "+---+---+--------+\n",
      "only showing top 10 rows\n",
      "\n"
     ]
    }
   ],
   "source": [
    "df1 = df.filter(\"ETHCTY = 'ASIAN AND PACIFIC ISLANDER' AND GNDR='FEMALE'\"). \\\n",
    "         select(df.RNK, df.CNT, df.NM). \\\n",
    "         distinct().orderBy(df.RNK.asc())\n",
    "df1.show(10)"
   ]
  },
  {
   "cell_type": "code",
   "execution_count": 10,
   "metadata": {
    "collapsed": false,
    "slideshow": {
     "slide_type": "slide"
    }
   },
   "outputs": [
    {
     "name": "stdout",
     "output_type": "stream",
     "text": [
      "<class 'pandas.core.frame.DataFrame'>\n",
      "Int64Index: 156 entries, 0 to 155\n",
      "Data columns (total 3 columns):\n",
      "RNK    156 non-null int64\n",
      "CNT    156 non-null int64\n",
      "NM     156 non-null object\n",
      "dtypes: int64(2), object(1)\n",
      "memory usage: 4.9+ KB\n"
     ]
    }
   ],
   "source": [
    "p = df1.toPandas()\n",
    "p.info()"
   ]
  },
  {
   "cell_type": "code",
   "execution_count": 11,
   "metadata": {
    "collapsed": false,
    "slideshow": {
     "slide_type": "subslide"
    }
   },
   "outputs": [
    {
     "data": {
      "text/plain": [
       "<matplotlib.axes.AxesSubplot at 0x10d16e650>"
      ]
     },
     "execution_count": 11,
     "metadata": {},
     "output_type": "execute_result"
    },
    {
     "data": {
      "image/png": "[encoded data removed]",
      "text/plain": [
       "<matplotlib.figure.Figure at 0x10cce5e90>"
      ]
     },
     "metadata": {},
     "output_type": "display_data"
    }
   ],
   "source": [
    "%matplotlib inline\n",
    "p[:10].plot(kind='barh', x='NM', y=\"CNT\")"
   ]
  }
 ],
 "metadata": {
  "celltoolbar": "Slideshow",
  "kernelspec": {
   "display_name": "Python 2",
   "language": "python",
   "name": "python2"
  },
  "language_info": {
   "codemirror_mode": {
    "name": "ipython",
    "version": 2
   },
   "file_extension": ".py",
   "mimetype": "text/x-python",
   "name": "python",
   "nbconvert_exporter": "python",
   "pygments_lexer": "ipython2",
   "version": "2.7.5"
  }
 },
 "nbformat": 4,
 "nbformat_minor": 0
}
